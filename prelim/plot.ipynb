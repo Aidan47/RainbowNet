{
 "cells": [
  {
   "cell_type": "code",
   "execution_count": 46,
   "metadata": {},
   "outputs": [],
   "source": [
    "import torch\n",
    "import numpy as np"
   ]
  },
  {
   "cell_type": "code",
   "execution_count": 52,
   "metadata": {},
   "outputs": [
    {
     "name": "stdout",
     "output_type": "stream",
     "text": [
      "0\n",
      "0\n",
      "[1. 0. 0.]\n",
      "[1. 0. 0.]\n",
      "\n",
      "0\n",
      "1\n",
      "[1. 0. 0.]\n",
      "[0. 1. 0.]\n",
      "\n",
      "2\n",
      "2\n",
      "[0. 0. 1.]\n",
      "[0. 0. 1.]\n",
      "\n"
     ]
    }
   ],
   "source": [
    "data = np.load('gameData.npz', allow_pickle=True)\n",
    "X_train, Y_train, X_test, Y_test = data['array1'], data['array2'], data['array3'], data['array4']\n",
    "    \n",
    "model = torch.load(\"model\")\n",
    "\n",
    "for idx in np.random.randint(0, len(X_test), size=(3)):\n",
    "    x = torch.tensor(X_test[idx])\n",
    "    output = model(x.float()).unsqueeze(0)\n",
    "    probVec = torch.nn.functional.softmax(output, dim=1).detach().numpy().squeeze()\n",
    "    print(np.argmax(probVec))\n",
    "    print(np.argmax(Y_test[idx]))\n",
    "    print(probVec)\n",
    "    print(Y_test[idx])\n",
    "    print()"
   ]
  },
  {
   "cell_type": "code",
   "execution_count": 51,
   "metadata": {},
   "outputs": [
    {
     "name": "stdout",
     "output_type": "stream",
     "text": [
      "Success Rate for 0: 0.8435643564356435\n",
      "852.0 / 1010.0\n",
      "'0' guessed 1419.0 times\n",
      "\n",
      "Success Rate for 1: 0.46421267893660534\n",
      "454.0 / 978.0\n",
      "'1' guessed 613.0 times\n",
      "\n",
      "Success Rate for 2: 0.9555335968379447\n",
      "967.0 / 1012.0\n",
      "'2' guessed 968.0 times\n",
      "\n"
     ]
    }
   ],
   "source": [
    "tallys = np.zeros((3, 3))\n",
    "one = 0\n",
    "for idx in range(len(X_test)):\n",
    "    x = torch.tensor(X_test[idx])\n",
    "    prediction = torch.argmax(model(x.float()))\n",
    "    label = np.argmax(Y_test[idx])\n",
    "    if prediction == label:\n",
    "        tallys[prediction][0] += 1\n",
    "    tallys[prediction][2] += 1\n",
    "    tallys[label][1] += 1\n",
    "\n",
    "for i in range(len(tallys)):\n",
    "    print(f\"Success Rate for {i}: {tallys[i][0] / tallys[i][1]}\")\n",
    "    print(f\"{tallys[i][0]} / {tallys[i][1]}\")\n",
    "    print(f\"'{i}' guessed {tallys[i][2]} times\")\n",
    "    print()"
   ]
  },
  {
   "cell_type": "code",
   "execution_count": null,
   "metadata": {},
   "outputs": [],
   "source": []
  }
 ],
 "metadata": {
  "kernelspec": {
   "display_name": "Python 3",
   "language": "python",
   "name": "python3"
  },
  "language_info": {
   "codemirror_mode": {
    "name": "ipython",
    "version": 3
   },
   "file_extension": ".py",
   "mimetype": "text/x-python",
   "name": "python",
   "nbconvert_exporter": "python",
   "pygments_lexer": "ipython3",
   "version": "3.11.6"
  }
 },
 "nbformat": 4,
 "nbformat_minor": 2
}
